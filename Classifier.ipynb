{
 "cells": [
  {
   "cell_type": "code",
   "execution_count": 1,
   "metadata": {},
   "outputs": [],
   "source": [
    "import pandas as pd\n",
    "import json\n",
    "from nltk.tokenize import word_tokenize\n",
    "from nltk.tokenize import sent_tokenize, word_tokenize\n",
    "from nltk.corpus import stopwords\n",
    "from nltk.stem import PorterStemmer\n",
    "from sklearn import preprocessing\n",
    "from sklearn import svm\n",
    "from sklearn.feature_extraction.text import TfidfVectorizer"
   ]
  },
  {
   "cell_type": "code",
   "execution_count": 2,
   "metadata": {},
   "outputs": [],
   "source": [
    "pstemmer = PorterStemmer()"
   ]
  },
  {
   "cell_type": "code",
   "execution_count": 3,
   "metadata": {},
   "outputs": [],
   "source": [
    "jsonfile = r'.\\Data\\train\\train.json'\n",
    "with open(jsonfile) as train_json:\n",
    "    json_dict = json.load(train_json)"
   ]
  },
  {
   "cell_type": "code",
   "execution_count": 4,
   "metadata": {},
   "outputs": [],
   "source": [
    "sno = []\n",
    "cuisine = []\n",
    "ingredients = []\n",
    "for i in range(len(json_dict)):\n",
    "    sno.append(json_dict[i]['id'])\n",
    "    cuisine.append(json_dict[i]['cuisine'])\n",
    "    ingredients.append(json_dict[i]['ingredients'])"
   ]
  },
  {
   "cell_type": "code",
   "execution_count": 5,
   "metadata": {},
   "outputs": [],
   "source": [
    "df = pd.DataFrame({'id':sno, \n",
    "                   'cuisine':cuisine, \n",
    "                   'ingredients':ingredients})"
   ]
  },
  {
   "cell_type": "code",
   "execution_count": 6,
   "metadata": {},
   "outputs": [],
   "source": [
    "def analyzer(df):\n",
    "    s_df = []\n",
    "    for s in df:\n",
    "        s = ' '.join(s)\n",
    "        s_df.append(s) \n",
    "    import re\n",
    "    mod_df=[]\n",
    "    for s in s_df:\n",
    "        s=re.sub(r'[^\\w\\s]','',s)\n",
    "        s=re.sub(r\"(\\d)\", \"\", s)    \n",
    "        s=re.sub(r'\\([^)]*\\)', '', s)\n",
    "        s=re.sub(u'\\w*\\u2122', '', s)\n",
    "        s=s.lower()    \n",
    "        #Remove Stop Words\n",
    "        stop_words = set(stopwords.words('english'))\n",
    "        word_tokens = word_tokenize(s)\n",
    "        filtered_sentence = [w for w in word_tokens if not w in stop_words]\n",
    "        filtered_sentence = []\n",
    "        for w in word_tokens:\n",
    "            if w not in stop_words:\n",
    "                filtered_sentence.append(w)\n",
    "        s=' '.join(filtered_sentence)    \n",
    "        #Porter Stemmer Algorithm\n",
    "        words = word_tokenize(s)\n",
    "        word_ps=[]\n",
    "        for w in words:\n",
    "           word_ps.append(pstemmer.stem(w))\n",
    "        s=' '.join(word_ps)\n",
    "        mod_df.append(s)\n",
    "    return mod_df"
   ]
  },
  {
   "cell_type": "code",
   "execution_count": 7,
   "metadata": {},
   "outputs": [],
   "source": [
    "def analyzer1(df):\n",
    "    import re\n",
    "    mod_df=[]\n",
    "    for s in df:\n",
    "        s=re.sub(r'[^\\w\\s]','',s)\n",
    "        s=re.sub(r\"(\\d)\", \"\", s)\n",
    "        s=re.sub(r'\\([^)]*\\)', '', s)   \n",
    "        s=re.sub(u'\\w*\\u2122', '', s)\n",
    "        s=s.lower()\n",
    "        #Remove Stop Words\n",
    "        stop_words = set(stopwords.words('english'))\n",
    "        word_tokens = word_tokenize(s)\n",
    "        filtered_sentence = [w for w in word_tokens if not w in stop_words]\n",
    "        filtered_sentence = []\n",
    "        for w in word_tokens:\n",
    "            if w not in stop_words:\n",
    "                filtered_sentence.append(w)\n",
    "        s=' '.join(filtered_sentence)\n",
    "        #Porter Stemmer Algorithm\n",
    "        words = word_tokenize(s)\n",
    "        word_ps=[]\n",
    "        for w in words:\n",
    "           word_ps.append(pstemmer.stem(w))\n",
    "        s=' '.join(word_ps)\n",
    "        mod_df.append(s)\n",
    "    return mod_df"
   ]
  },
  {
   "cell_type": "code",
   "execution_count": 8,
   "metadata": {},
   "outputs": [],
   "source": [
    "df['ingredients_mod']= analyzer(df['ingredients'])"
   ]
  },
  {
   "cell_type": "code",
   "execution_count": 9,
   "metadata": {},
   "outputs": [],
   "source": [
    "mylist =['fish', 'goat', 'chicken','beef','pork','prawn','egg','Katsuobushi','mackrel','fillet','lamb','steak','salmon','shrimp','bacon','ham']\n",
    "pattern = '|'.join(mylist)\n",
    "df['veg']=df.ingredients_mod.str.contains(pattern) \n",
    "df.loc[df.veg == True,'veg'] = 'non-vegetarian'\n",
    "df.loc[df.veg == False,'veg'] = 'vegetarian'"
   ]
  },
  {
   "cell_type": "code",
   "execution_count": 10,
   "metadata": {},
   "outputs": [],
   "source": [
    "file = r'.\\Data\\test\\test.csv'\n",
    "df_test = pd.read_csv(file,encoding='ISO-8859-1')\n",
    "df_test['ingredients_mod']= analyzer1(df_test['ingredients'])"
   ]
  },
  {
   "cell_type": "code",
   "execution_count": 11,
   "metadata": {},
   "outputs": [],
   "source": [
    "vectorizer = TfidfVectorizer()\n",
    "ingredient_train = vectorizer.fit_transform(df['ingredients_mod'])\n",
    "ingredient_test = vectorizer.transform(df_test['ingredients_mod'])"
   ]
  },
  {
   "cell_type": "code",
   "execution_count": 12,
   "metadata": {},
   "outputs": [],
   "source": [
    "elable = preprocessing.LabelEncoder()\n",
    "elable.fit(df['cuisine'])\n",
    "df['cuisine']=elable.transform(df['cuisine'])\n",
    "elable.fit(df['veg'])\n",
    "df['veg']=elable.transform(df['veg'])"
   ]
  },
  {
   "cell_type": "code",
   "execution_count": 13,
   "metadata": {},
   "outputs": [],
   "source": [
    "veg_map={'0':'non-vegetarian', '1':'vegetarian'}\n",
    "cuisine_map={'0':'brazilian', '1':'british', '2':'cajun_creole', '3':'chinese', '4':'filipino', '5':'french', '6':'greek', '7':'indian', '8':'irish', '9':'italian', '10':'jamaican', '11':'japanese', '12':'korean', '13':'mexican', '14':'moroccan', '15':'russian', '16':'southern_us', '17':'spanish', '18':'thai', '19':'vietnamese'}"
   ]
  },
  {
   "cell_type": "code",
   "execution_count": 14,
   "metadata": {},
   "outputs": [],
   "source": [
    "Cuisine_train=[]\n",
    "Type_train=[]\n",
    "Cuisine_train = df['cuisine']\n",
    "Type_train = df['veg']"
   ]
  },
  {
   "cell_type": "code",
   "execution_count": 15,
   "metadata": {},
   "outputs": [],
   "source": [
    "lin_cuisine = svm.LinearSVC(C=1)\n",
    "lin_veg = svm.LinearSVC(C=1)\n",
    "lin_cuisine.fit(ingredient_train, Cuisine_train)\n",
    "lin_veg.fit(ingredient_train, Type_train)\n",
    "Cuisine_pred_idx=lin_cuisine.predict(ingredient_test)\n",
    "Type_pred_idx=lin_veg.predict(ingredient_test)"
   ]
  },
  {
   "cell_type": "code",
   "execution_count": 29,
   "metadata": {
    "scrolled": true
   },
   "outputs": [
    {
     "name": "stdout",
     "output_type": "stream",
     "text": [
      "                                    Receipe Image URL  \\\n",
      "0   //www.bbcgoodfood.com/sites/default/files/styl...   \n",
      "1   //www.bbcgoodfood.com/sites/default/files/styl...   \n",
      "2   //www.bbcgoodfood.com/sites/default/files/styl...   \n",
      "3   //www.bbcgoodfood.com/sites/default/files/styl...   \n",
      "4   //www.bbcgoodfood.com/sites/default/files/styl...   \n",
      "5   //www.bbcgoodfood.com/sites/default/files/styl...   \n",
      "6   //www.bbcgoodfood.com/sites/default/files/styl...   \n",
      "7   //www.bbcgoodfood.com/sites/default/files/styl...   \n",
      "8   //www.bbcgoodfood.com/sites/default/files/styl...   \n",
      "9   //www.bbcgoodfood.com/sites/default/files/styl...   \n",
      "10  //www.bbcgoodfood.com/sites/default/files/styl...   \n",
      "11  //www.bbcgoodfood.com/sites/default/files/styl...   \n",
      "12  //www.bbcgoodfood.com/sites/default/files/styl...   \n",
      "13  //www.bbcgoodfood.com/sites/default/files/styl...   \n",
      "14  //www.bbcgoodfood.com/sites/default/files/styl...   \n",
      "15  //www.bbcgoodfood.com/sites/default/files/styl...   \n",
      "16  //www.bbcgoodfood.com/sites/default/files/styl...   \n",
      "17  //www.bbcgoodfood.com/sites/default/files/styl...   \n",
      "18  //www.bbcgoodfood.com/sites/default/files/styl...   \n",
      "19  //www.bbcgoodfood.com/sites/default/files/styl...   \n",
      "20  //www.bbcgoodfood.com/sites/default/files/styl...   \n",
      "21  //www.bbcgoodfood.com/sites/default/files/styl...   \n",
      "22  //www.bbcgoodfood.com/sites/default/files/styl...   \n",
      "23  //www.bbcgoodfood.com/sites/default/files/styl...   \n",
      "24  //www.bbcgoodfood.com/sites/default/files/styl...   \n",
      "\n",
      "                                             Receipes      Cuisine  \\\n",
      "0                              British pork cassoulet  southern_us   \n",
      "1                         Beef, ale & parsnip pudding      british   \n",
      "2                           Scampi with tartare sauce        irish   \n",
      "3                                     No-fail Yorkies      british   \n",
      "4                  Roast lamb with spring herb crumbs       french   \n",
      "5                                     Beef Wellington      italian   \n",
      "6             Roast beef with caramelised onion gravy      british   \n",
      "7                               Marzipan Eccles tarts      british   \n",
      "8                               St ClementÃ¢ÂÂs pie      british   \n",
      "9                                 Easy treacle sponge      british   \n",
      "10                                        Scotch eggs      british   \n",
      "11                           Fish pie - in four steps      british   \n",
      "12  Lemon & thyme butter-basted roast chicken & gravy        irish   \n",
      "13                  Rhubarb, pear & hazelnut crumbles       french   \n",
      "14                        Chicken & mushroom puff pie       french   \n",
      "15                       Crispy topped Cumberland pie      british   \n",
      "16          The ultimate makeover: Steak & kidney pie        greek   \n",
      "17                     Spiced parsnip shepherd's pies       indian   \n",
      "18              Split pea & green pea smoked ham soup        irish   \n",
      "19                             Herby toad in the hole      british   \n",
      "20                             Classic summer pudding      mexican   \n",
      "21                           Granny's Victoria sponge      british   \n",
      "22                     Mini pork pies with piccalilli      italian   \n",
      "23                              Cherry & almond tarts      british   \n",
      "24                             No-fuss shepherd's pie      british   \n",
      "\n",
      "        Veg-NonVeg Cook Time       Effort  \\\n",
      "0   non-vegetarian      1 hr         Easy   \n",
      "1   non-vegetarian     3 hrs  More effort   \n",
      "2   non-vegetarian   20 mins  More effort   \n",
      "3   non-vegetarian   40 mins         Easy   \n",
      "4   non-vegetarian     2 hrs         Easy   \n",
      "5   non-vegetarian       NaN  A challenge   \n",
      "6   non-vegetarian      1 hr         Easy   \n",
      "7   non-vegetarian   20 mins         Easy   \n",
      "8   non-vegetarian   35 mins         Easy   \n",
      "9   non-vegetarian   40 mins         Easy   \n",
      "10  non-vegetarian   30 mins  A challenge   \n",
      "11  non-vegetarian   30 mins         Easy   \n",
      "12  non-vegetarian      1 hr         Easy   \n",
      "13      vegetarian   45 mins         Easy   \n",
      "14  non-vegetarian   30 mins         Easy   \n",
      "15  non-vegetarian     3 hrs         Easy   \n",
      "16  non-vegetarian     2 hrs  More effort   \n",
      "17  non-vegetarian      1 hr         Easy   \n",
      "18      vegetarian     3 hrs         Easy   \n",
      "19  non-vegetarian   40 mins         Easy   \n",
      "20      vegetarian    5 mins  More effort   \n",
      "21  non-vegetarian   20 mins         Easy   \n",
      "22  non-vegetarian   38 mins         Easy   \n",
      "23  non-vegetarian   40 mins         Easy   \n",
      "24  non-vegetarian      1 hr         Easy   \n",
      "\n",
      "                                          Ingredients  \\\n",
      "0   400-450g streaky steaks (strips of pork belly)...   \n",
      "1   1 large onion, chopped 100g smoked baconlardon...   \n",
      "2   15-20 langoustineor Dublin Bay prawn tails veg...   \n",
      "3   450ml milk 4 large eggs 250g plain flour 2 tbs...   \n",
      "4   100g good-quality white bread 2 garlic cloves ...   \n",
      "5   a good beef fillet(preferably Aberdeen Angus) ...   \n",
      "6   1 tbsp black peppercorn 1 tbsp English mustard...   \n",
      "7   300g leftover dried fruit, like raisins, sulta...   \n",
      "8   250g light digestive biscuit 100g cornflake 85...   \n",
      "9   250g golden syrup zest 1 lemon, plus juice ÃÂ...   \n",
      "10  12 large eggs 800g good-quality Cumberland or ...   \n",
      "11  400g skinless white fish fillet 400g skinless ...   \n",
      "12  50g butter, softened bunch fresh thymeor lemon...   \n",
      "13  25g butter 3 pears, cored and halved 500g rhub...   \n",
      "14  1 tbsp vegetable oil 8 skinless boneless chick...   \n",
      "15  2 celerysticks, sliced into 1cm pieces 1 onion...   \n",
      "16  200g lamb's kidneys, halved 1 tbsp rapeseed oi...   \n",
      "17  2 tbsp sunflower oil 1 large onion, chopped 2 ...   \n",
      "18  1kg gammonor ham hock 200g split peas, soaked ...   \n",
      "19  140g plain flour 3 eggs 300ml milk 2 tsp Dijon...   \n",
      "20  300g raspberry, plus a few extra to serve 225g...   \n",
      "21  200g unsalted butter, softened, plus extra for...   \n",
      "22  few dots of butter 600g shortcrust pastry, bou...   \n",
      "23  375g pack all-butter puff pastry 75g self-rais...   \n",
      "24  1 tbsp sunflower oil 1 large onion, chopped 2-...   \n",
      "\n",
      "                                       Cooking Method  \\\n",
      "0   Heat oven to 180C/fan 160C/gas 4. Quickly pan-...   \n",
      "1   Heat a large pan and cook the onion and lardon...   \n",
      "2   To prepare the langoustines, pull off the head...   \n",
      "3   Up to 3-4 hrs before cooking, mix together the...   \n",
      "4   Heat oven to 160C/140C fan/gas 3. For the lamb...   \n",
      "5   Heat oven to 220C/fan 200C/gas 7.Sit the 1kg b...   \n",
      "6   Crush the peppercorns, mustard powder, thyme a...   \n",
      "7   Mix the dried fruit, grated apple or pear, Dem...   \n",
      "8   Heat oven to 180C/160C fan/gas 4. Sit a fluted...   \n",
      "9   Heat oven to 180C/160C fan/gas 4. Mix the syru...   \n",
      "10  Put 9 eggs into a large saucepan. Cover with c...   \n",
      "11  Poach 400g skinless whiteÃÂ fish fillets and ...   \n",
      "12  Heat oven to 200C/180C fan/gas 6. In a small b...   \n",
      "13  Melt the butter in a pan, then add the pears, ...   \n",
      "14  Heat 1 tbsp vegetable oil in a large, non-stic...   \n",
      "15  Heat oven to 160C/140C fan/gas 3. Soften the c...   \n",
      "16  Cut out and discard the thin tubes from the ki...   \n",
      "17  For the sauce, heat the oil in a pan and add t...   \n",
      "18  Put the gammon in a very large pan with 2 litr...   \n",
      "19  Heat oven to 240C/220C fan/gas 9. In a food pr...   \n",
      "20  Wash the fruit and place it all (except the st...   \n",
      "21  Heat oven to 190C/170C fan/gas 5. Grease and f...   \n",
      "22  Heat oven to 200C/180C fan/gas 6. Line each ho...   \n",
      "23  Very thinly roll out the pastry on a lightly f...   \n",
      "24  Heat 1 tbsp sunflower oil in a mediumÃÂ sauce...   \n",
      "\n",
      "                                         Receipes URL  \n",
      "0   https://www.bbcgoodfood.com/recipes/2848/briti...  \n",
      "1   https://www.bbcgoodfood.com/recipes/1974640/be...  \n",
      "2   https://www.bbcgoodfood.com/recipes/2220651/sc...  \n",
      "3   https://www.bbcgoodfood.com/recipes/2138671/no...  \n",
      "4   https://www.bbcgoodfood.com/recipes/2063668/ro...  \n",
      "5   https://www.bbcgoodfood.com/recipes/2538/beef-...  \n",
      "6   https://www.bbcgoodfood.com/recipes/2138667/ro...  \n",
      "7   https://www.bbcgoodfood.com/recipes/1826707/ma...  \n",
      "8   https://www.bbcgoodfood.com/recipes/2063673/st...  \n",
      "9   https://www.bbcgoodfood.com/recipes/1993657/ea...  \n",
      "10  https://www.bbcgoodfood.com/recipes/1414645/sc...  \n",
      "11  https://www.bbcgoodfood.com/recipes/3174/fish-...  \n",
      "12  https://www.bbcgoodfood.com/recipes/1916640/le...  \n",
      "13  https://www.bbcgoodfood.com/recipes/2063654/rh...  \n",
      "14  https://www.bbcgoodfood.com/recipes/1765/chick...  \n",
      "15  https://www.bbcgoodfood.com/recipes/1958635/cr...  \n",
      "16  https://www.bbcgoodfood.com/recipes/13015/the-...  \n",
      "17  https://www.bbcgoodfood.com/recipes/3439/spice...  \n",
      "18  https://www.bbcgoodfood.com/recipes/1022639/sp...  \n",
      "19  https://www.bbcgoodfood.com/recipes/1758645/he...  \n",
      "20  https://www.bbcgoodfood.com/recipes/2198657/cl...  \n",
      "21  https://www.bbcgoodfood.com/recipes/532634/gra...  \n",
      "22  https://www.bbcgoodfood.com/recipes/2248635/mi...  \n",
      "23  https://www.bbcgoodfood.com/recipes/2219676/ch...  \n",
      "24  https://www.bbcgoodfood.com/recipes/9644/nofus...  \n"
     ]
    }
   ],
   "source": [
    "Cuisine_pred=[]\n",
    "for i in range(len(Cuisine_pred_idx)):\n",
    "    Cuisine_pred.append(cuisine_map[str(Cuisine_pred_idx[i])])\n",
    "       \n",
    "Type_pred=[]\n",
    "for i in range(len(Type_pred_idx)):\n",
    "    Type_pred.append(veg_map[str(Type_pred_idx[i])])    \n",
    "\n",
    "df_test['cuisine'] =  Cuisine_pred\n",
    "df_test['Veg-NonVeg'] =  Type_pred\n",
    "Result = pd.DataFrame({'Receipe Image URL':df_test['receipe-image-src'],'Receipes':df_test['receipes'], 'Cuisine':df_test['cuisine'], 'Veg-NonVeg':df_test['Veg-NonVeg'],'Cook Time':df_test['cook time'],'Effort':df_test['effort'],'Ingredients':df_test['ingredients'],'Cooking Method':df_test['receipe-method'],'Receipes URL':df_test['receipes-href']})\n",
    "print(Result)"
   ]
  },
  {
   "cell_type": "code",
   "execution_count": 30,
   "metadata": {},
   "outputs": [],
   "source": [
    "Result.to_csv(\"output.csv\", index=False)"
   ]
  },
  {
   "cell_type": "code",
   "execution_count": null,
   "metadata": {},
   "outputs": [],
   "source": []
  }
 ],
 "metadata": {
  "kernelspec": {
   "display_name": "Python 3",
   "language": "python",
   "name": "python3"
  },
  "language_info": {
   "codemirror_mode": {
    "name": "ipython",
    "version": 3
   },
   "file_extension": ".py",
   "mimetype": "text/x-python",
   "name": "python",
   "nbconvert_exporter": "python",
   "pygments_lexer": "ipython3",
   "version": "3.7.0"
  }
 },
 "nbformat": 4,
 "nbformat_minor": 2
}
